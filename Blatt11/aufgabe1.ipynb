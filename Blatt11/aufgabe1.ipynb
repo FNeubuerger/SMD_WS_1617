{
 "cells": [
  {
   "cell_type": "code",
   "execution_count": 1,
   "metadata": {
    "collapsed": false
   },
   "outputs": [],
   "source": [
    "import numpy as np\n",
    "import matplotlib.pyplot as plt\n",
    "%matplotlib inline"
   ]
  },
  {
   "cell_type": "code",
   "execution_count": 11,
   "metadata": {
    "collapsed": true
   },
   "outputs": [],
   "source": [
    "def dmax(F0,F1):\n",
    "    if len(F0)==len(F1):\n",
    "        d = np.max(np.abs(F1-F0))\n",
    "        return d\n",
    "def test(lam,alpha,bins,n):\n",
    "    poisson = np.random.poisson(lam=lam,size=n)\n",
    "    gauss = np.around(np.random.normal(loc=lam,scale=np.sqrt(lam),size=n))\n",
    "    \n",
    "    F0 = np.histogram(poisson,bins=bins,range=(lam-5*(lam**0.5),lam+5*(lam**0.5)))\n",
    "    F1 = np.histogram(gauss,bins=bins,range=(lam-5*(lam**0.5),lam+5*(lam**0.5)))\n",
    "    #plt.hist(F0[0],F1[1])\n",
    "    #plt.show()\n",
    "    F0 = np.cumsum(np.array(F0[0]))\n",
    "    F1 = np.cumsum(np.array(F1[0]))\n",
    "    #print(F0)\n",
    "    \n",
    "    K_alpha = (np.abs(np.log(alpha/2))/2)**0.5\n",
    "    dist = dmax(F0,F1)\n",
    "    #print(\"abstand: \",dist)\n",
    "    if ((1/2)**0.5*dist>K_alpha):\n",
    "        #print((1/2)**0.5*dist)\n",
    "        return False,dist\n",
    "    else:\n",
    "        return True,dist"
   ]
  },
  {
   "cell_type": "markdown",
   "metadata": {},
   "source": [
    "n und m sind die Anzahl der Einträge der Histogramme"
   ]
  },
  {
   "cell_type": "code",
   "execution_count": 16,
   "metadata": {
    "collapsed": false
   },
   "outputs": [
    {
     "name": "stdout",
     "output_type": "stream",
     "text": [
      "Test erfolgreich mit Lambda =  84\n",
      "Test erfolgreich mit Lambda =  56\n",
      "Test erfolgreich mit Lambda =  6\n"
     ]
    }
   ],
   "source": [
    "n=100\n",
    "bins=10\n",
    "def loop(lam,alpha):\n",
    "    conv=False\n",
    "    it=0\n",
    "    lim=10000\n",
    "    while (conv==False) and it<lim:\n",
    "        conv,dist=test(lam,alpha,bins,n)\n",
    "        it+=1        \n",
    "        if it==(lim-1):\n",
    "            print('kein erfolgreicher test nach, ' ,it,'iterationen')\n",
    "        lam+=1\n",
    "        if conv==True:\n",
    "            print('Test erfolgreich mit Lambda = ',lam)\n",
    "    \n",
    "loop(1,0.05)\n",
    "loop(1,0.025)\n",
    "loop(1,0.001)"
   ]
  },
  {
   "cell_type": "code",
   "execution_count": null,
   "metadata": {
    "collapsed": true
   },
   "outputs": [],
   "source": []
  }
 ],
 "metadata": {
  "anaconda-cloud": {},
  "kernelspec": {
   "display_name": "Python [default]",
   "language": "python",
   "name": "python3"
  },
  "language_info": {
   "codemirror_mode": {
    "name": "ipython",
    "version": 3
   },
   "file_extension": ".py",
   "mimetype": "text/x-python",
   "name": "python",
   "nbconvert_exporter": "python",
   "pygments_lexer": "ipython3",
   "version": "3.5.2"
  }
 },
 "nbformat": 4,
 "nbformat_minor": 2
}
