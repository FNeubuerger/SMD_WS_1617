{
 "cells": [
  {
   "cell_type": "code",
   "execution_count": 119,
   "metadata": {
    "collapsed": true
   },
   "outputs": [],
   "source": [
    "import numpy as np \n",
    "import matplotlib.pyplot as plt \n",
    "import math\n",
    "import pandas as pd\n",
    "\n",
    "plt.style.use('ggplot')\n",
    "plt.rcParams['text.usetex'] = True\n",
    "plt.rcParams['text.latex.unicode'] = True\n",
    "plt.rcParams['font.family'] = 'lmodern'"
   ]
  },
  {
   "cell_type": "code",
   "execution_count": 126,
   "metadata": {
    "collapsed": false
   },
   "outputs": [],
   "source": [
    "t = np.array([29.4, 26.7, 28.3, 21.1, 20.0, 18.3, 17.8, 22.2, 20.6, 23.9, 22.2, 27.2, 21.7])\n",
    "we = np.array([2, 2, 1, 0, 0, 0, 1, 2, 2, 0, 2, 1, 1, 0])\n",
    "l = np.array([85, 90, 78, 96, 80, 70, 65, 95, 70, 80, 70, 90, 75, 80])\n",
    "wi = np.array([0, 1, 0, 0, 0, 1, 1, 0, 0, 0, 1, 1, 0, 1])\n",
    "f = ([0, 0, 1, 1, 1, 0, 1, 0, 1, 1, 1, 1, 1, 0])\n"
   ]
  },
  {
   "cell_type": "code",
   "execution_count": 110,
   "metadata": {
    "collapsed": true
   },
   "outputs": [],
   "source": [
    "def S(a,b,c):\n",
    "    return -(a/b)*math.log(a/b,2)-(c/b)*math.log(c/b,2)\n",
    "\n",
    "def S_mod(b,c):\n",
    "    return -(c/b)*math.log(c/b,2)"
   ]
  },
  {
   "cell_type": "code",
   "execution_count": 101,
   "metadata": {
    "collapsed": false
   },
   "outputs": [],
   "source": [
    "wind_false = []\n",
    "wind_true = []\n",
    "wind_false_f = []\n",
    "wind_false_t = []\n",
    "wind_true_f = []\n",
    "wind_true_t = []\n",
    "\n",
    "luft_false = []\n",
    "luft_true = []\n",
    "\n",
    "temp_false = []\n",
    "temp_true = []\n",
    "\n",
    "wetter_1 = []\n",
    "wetter_2 = []\n",
    "wetter_3 = []\n",
    "wetter_1_f = []\n",
    "wetter_1_t = []\n",
    "wetter_2_f = []\n",
    "wetter_2_t = []\n",
    "wetter_3_f = []\n",
    "wetter_3_t = []\n",
    "\n",
    "for i in range(len(wi)):\n",
    "    if wi[i]==0:\n",
    "        wind_false.append(wi[i])\n",
    "        if f[i]==0:\n",
    "            wind_false_f.append(wi[i])        \n",
    "        if f[i]!=0:\n",
    "            wind_false_t.append(wi[i])\n",
    "    if wi[i]!=0:\n",
    "        wind_true.append(wi[i])\n",
    "        if f[i]==0:\n",
    "            wind_true_f.append(wi[i])        \n",
    "        if f[i]!=0:\n",
    "            wind_true_t.append(wi[i])\n",
    "\n",
    "\n",
    "for i in range(len(we)):\n",
    "    if we[i]==0:\n",
    "        wetter_1.append(we[i])\n",
    "        if f[i]==0:\n",
    "            wetter_1_f.append(wi[i])        \n",
    "        if f[i]!=0:\n",
    "            wetter_1_t.append(wi[i])\n",
    "    if we[i]==1:\n",
    "        wetter_2.append(we[i])\n",
    "        if f[i]==0:\n",
    "            wetter_2_f.append(wi[i])        \n",
    "        if f[i]!=0:\n",
    "            wetter_2_t.append(wi[i])\n",
    "    if we[i]==2:\n",
    "        wetter_3.append(we[i])\n",
    "        if f[i]==0:\n",
    "            wetter_3_f.append(wi[i])        \n",
    "        if f[i]!=0:\n",
    "            wetter_3_t.append(wi[i])\n",
    "\n",
    "\n",
    "                \n",
    "                \n",
    "for i in range(len(l)):\n",
    "    if f[i]==0:\n",
    "            luft_false.append(l[i])\n",
    "                \n",
    "    if f[i]!=0:\n",
    "        luft_true.append(l[i])\n",
    "  \n",
    "\n",
    "                \n",
    "for i in range(len(t)):\n",
    "    if f[i]==0:\n",
    "            temp_false.append(t[i])\n",
    "                \n",
    "    if f[i]!=0:\n",
    "            temp_true.append(t[i])\n",
    "\n",
    "                \n",
    "                \n",
    "                \n",
    "\n",
    "            \n"
   ]
  },
  {
   "cell_type": "code",
   "execution_count": 81,
   "metadata": {
    "collapsed": false
   },
   "outputs": [
    {
     "data": {
      "text/plain": [
       "0.9402859586706309"
      ]
     },
     "execution_count": 81,
     "metadata": {},
     "output_type": "execute_result"
    }
   ],
   "source": [
    "#Gesamtentropie\n",
    "# 14 Spiele, 5 x false, 9 x true\n",
    "S(9, 14, 5)\n"
   ]
  },
  {
   "cell_type": "code",
   "execution_count": 93,
   "metadata": {
    "collapsed": false
   },
   "outputs": [],
   "source": [
    "wind_false_val = S(len(wind_false_f), len(wind_false), len(wind_false_t))\n",
    "wind_true_val = S(len(wind_true_f), len(wind_true), len(wind_true_t))\n",
    "gain_wind = S(9, 14, 5)-(len(wind_false)/14)*wind_false_val-(len(wind_true)/14)*wind_true_val"
   ]
  },
  {
   "cell_type": "code",
   "execution_count": 94,
   "metadata": {
    "collapsed": false
   },
   "outputs": [
    {
     "name": "stdout",
     "output_type": "stream",
     "text": [
      "0.8112781244591328 1.0 0.04812703040826932\n"
     ]
    }
   ],
   "source": [
    "print(wind_false_val, wind_true_val, gain_wind)"
   ]
  },
  {
   "cell_type": "code",
   "execution_count": 112,
   "metadata": {
    "collapsed": false
   },
   "outputs": [],
   "source": [
    "wetter_1_val = S(len(wetter_1_f), len(wetter_1), len(wetter_1_t))\n",
    "wetter_2_val = S_mod( len(wetter_2), len(wetter_2_t))\n",
    "wetter_3_val = S(len(wetter_3_f), len(wetter_3), len(wetter_3_t))\n",
    "#Problem: wetter_2_f = 0\n",
    "gain_wetter = S(9, 14, 5)-(len(wetter_1)/14)*wetter_1_val-(len(wetter_2)/14)*wetter_2_val-(len(wetter_3)/14)*wetter_3_val"
   ]
  },
  {
   "cell_type": "code",
   "execution_count": 113,
   "metadata": {
    "collapsed": false
   },
   "outputs": [
    {
     "data": {
      "text/plain": [
       "0.04812703040826932"
      ]
     },
     "execution_count": 113,
     "metadata": {},
     "output_type": "execute_result"
    }
   ],
   "source": []
  },
  {
   "cell_type": "code",
   "execution_count": 116,
   "metadata": {
    "collapsed": false
   },
   "outputs": [
    {
     "data": {
      "text/plain": [
       "[78, 96, 80, 65, 70, 80, 70, 90, 75]"
      ]
     },
     "execution_count": 116,
     "metadata": {},
     "output_type": "execute_result"
    }
   ],
   "source": []
  },
  {
   "cell_type": "code",
   "execution_count": 117,
   "metadata": {
    "collapsed": false
   },
   "outputs": [
    {
     "data": {
      "text/plain": [
       "[85, 90, 70, 95, 80]"
      ]
     },
     "execution_count": 117,
     "metadata": {},
     "output_type": "execute_result"
    }
   ],
   "source": []
  },
  {
   "cell_type": "code",
   "execution_count": null,
   "metadata": {
    "collapsed": true
   },
   "outputs": [],
   "source": []
  },
  {
   "cell_type": "code",
   "execution_count": null,
   "metadata": {
    "collapsed": true
   },
   "outputs": [],
   "source": []
  }
 ],
 "metadata": {
  "anaconda-cloud": {},
  "kernelspec": {
   "display_name": "Python [default]",
   "language": "python",
   "name": "python3"
  },
  "language_info": {
   "codemirror_mode": {
    "name": "ipython",
    "version": 3
   },
   "file_extension": ".py",
   "mimetype": "text/x-python",
   "name": "python",
   "nbconvert_exporter": "python",
   "pygments_lexer": "ipython3",
   "version": "3.5.2"
  }
 },
 "nbformat": 4,
 "nbformat_minor": 1
}
